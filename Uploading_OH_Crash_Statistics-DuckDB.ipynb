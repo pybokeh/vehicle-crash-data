{
 "cells": [
  {
   "cell_type": "markdown",
   "id": "a0db2b8f-3787-4c3c-8fe4-2294947f5b77",
   "metadata": {},
   "source": [
    "# Uploading Ohio Crash Statistics to DuckDB Database"
   ]
  },
  {
   "cell_type": "markdown",
   "id": "8e1769aa-950a-4f52-beb0-b1f827d10cc3",
   "metadata": {},
   "source": [
    "## Background"
   ]
  },
  {
   "cell_type": "markdown",
   "id": "766fb365-8ba2-40f0-a31b-bd2137d6a16a",
   "metadata": {},
   "source": [
    "DuckDB is a minimalist database which may suit those who do not want to deal with the complexity of a cloud database such as Snowflake, nor need to share this database with a wide range of audience or users.  DuckDB should only be used if your use cases involve analytical queries or \"OLAP\" use cases.  If your use cases involve \"OLTP\" transactions (inserts, updates, deletes, etc), then DuckDB would not be the optimal database to use.\n",
    "\n",
    "**NOTE:** zip files were saved in the `data` folder which is NOT checked into GitLab."
   ]
  },
  {
   "cell_type": "markdown",
   "id": "baec8a76-9285-4705-9a81-7f5c90d114c1",
   "metadata": {},
   "source": [
    "#### Library Imports"
   ]
  },
  {
   "cell_type": "code",
   "execution_count": 1,
   "id": "8f1b834c-87e3-4162-8f71-8fe147c24cc8",
   "metadata": {},
   "outputs": [],
   "source": [
    "import duckdb\n",
    "import pandas as pd\n",
    "import zipfile\n",
    "pd.options.display.max_columns=250\n",
    "pd.options.display.max_rows=1000"
   ]
  },
  {
   "cell_type": "markdown",
   "id": "731739a0-1628-4c4b-9df8-a83ac30fd5d7",
   "metadata": {},
   "source": [
    "#### Unzip the zip file for the specified month located in the `data` directory"
   ]
  },
  {
   "cell_type": "code",
   "execution_count": 4,
   "id": "06cedb6c-7062-4a50-ac62-1e0a3090998f",
   "metadata": {},
   "outputs": [],
   "source": [
    "MONTH = '05'"
   ]
  },
  {
   "cell_type": "code",
   "execution_count": 5,
   "id": "67a3111a-9f33-4af4-888a-56f75d09f12c",
   "metadata": {},
   "outputs": [],
   "source": [
    "with zipfile.ZipFile(f\"data/OH_2022-{MONTH}.zip\", \"r\") as zip_ref:\n",
    "    # extract all the contents of the zip file to the specified directory\n",
    "    zip_ref.extractall(f\"data/OH_2022-{MONTH}\")"
   ]
  },
  {
   "cell_type": "markdown",
   "id": "c077db1a-c384-4f5e-ac9d-67aaabd1fe21",
   "metadata": {},
   "source": [
    "#### Data month to upload"
   ]
  },
  {
   "cell_type": "code",
   "execution_count": null,
   "id": "6ae5b5e9-089a-46f3-bda4-1e143d3479ce",
   "metadata": {},
   "outputs": [],
   "source": [
    "MONTH = '07'"
   ]
  },
  {
   "cell_type": "markdown",
   "id": "d093343f-a765-4a48-afe3-2cbc69e7a38a",
   "metadata": {},
   "source": [
    "#### Upload the cleaned data as a DuckDB table"
   ]
  },
  {
   "cell_type": "code",
   "execution_count": null,
   "id": "1c801049-45d5-4f25-a054-767986fd8b28",
   "metadata": {},
   "outputs": [],
   "source": [
    "with duckdb.connect(database='data/veh_crash_stats.duckdb', read_only=False) as con:\n",
    "    df = pd.read_csv(f'data/OH_2022-{MONTH}/CrashStatistics.csv')\n",
    "    \n",
    "    # Format dates properly\n",
    "    df['CrashDateTime'] = pd.to_datetime(df['CrashDateTime'], format='%m/%d/%Y %I:%M:%S %p', errors='coerce')\n",
    "    df['CrashReportedDateTime'] = pd.to_datetime(df['CrashReportedDateTime'], format='%m/%d/%Y %I:%M:%S %p', errors='coerce')\n",
    "    df['DispatchedDateTime'] = pd.to_datetime(df['DispatchedDateTime'], format='%m/%d/%Y %I:%M:%S %p', errors='coerce')\n",
    "    df['ArrivedDateTime'] = pd.to_datetime(df['ArrivedDateTime'], format='%m/%d/%Y %I:%M:%S %p', errors='coerce')\n",
    "    df['SceneClearedDateTime'] = pd.to_datetime(df['SceneClearedDateTime'], format='%m/%d/%Y %I:%M:%S %p', errors='coerce')\n",
    "\n",
    "    # Remove unnecessary tab characters\n",
    "    df['LocalReportNumber'] = df['LocalReportNumber'].str.replace(\"\\t\",\"\")\n",
    "    df['ReportingAgencyNCIC'] = df['ReportingAgencyNCIC'].str.replace(\"\\t\",\"\")\n",
    "    \n",
    "    con.execute('CREATE TABLE crash_statistics AS SELECT * FROM df')"
   ]
  },
  {
   "cell_type": "markdown",
   "id": "6595aba3-5550-46c7-a153-e71214a64e6a",
   "metadata": {},
   "source": [
    "#### Append new data to an existing table"
   ]
  },
  {
   "cell_type": "code",
   "execution_count": 6,
   "id": "edd2defb-15f3-4376-8607-3d17bbb3a157",
   "metadata": {},
   "outputs": [],
   "source": [
    "MONTH = '05'"
   ]
  },
  {
   "cell_type": "code",
   "execution_count": 7,
   "id": "072b9d93-ef63-4c41-8897-e18b24838c37",
   "metadata": {},
   "outputs": [],
   "source": [
    "with duckdb.connect(database='data/veh_crash_stats.duckdb', read_only=False) as con:\n",
    "    df = pd.read_csv(f'data/OH_2022-{MONTH}/CrashStatistics.csv')\n",
    "    \n",
    "    # Format dates properly\n",
    "    df['CrashDateTime'] = pd.to_datetime(df['CrashDateTime'], format='%m/%d/%Y %I:%M:%S %p', errors='coerce')\n",
    "    df['CrashReportedDateTime'] = pd.to_datetime(df['CrashReportedDateTime'], format='%m/%d/%Y %I:%M:%S %p', errors='coerce')\n",
    "    df['DispatchedDateTime'] = pd.to_datetime(df['DispatchedDateTime'], format='%m/%d/%Y %I:%M:%S %p', errors='coerce')\n",
    "    df['ArrivedDateTime'] = pd.to_datetime(df['ArrivedDateTime'], format='%m/%d/%Y %I:%M:%S %p', errors='coerce')\n",
    "    df['SceneClearedDateTime'] = pd.to_datetime(df['SceneClearedDateTime'], format='%m/%d/%Y %I:%M:%S %p', errors='coerce')\n",
    "\n",
    "    # Remove unnecessary tab characters\n",
    "    df['LocalReportNumber'] = df['LocalReportNumber'].str.replace(\"\\t\",\"\")\n",
    "    df['ReportingAgencyNCIC'] = df['ReportingAgencyNCIC'].str.replace(\"\\t\",\"\")\n",
    "    \n",
    "    con.append(\"crash_statistics\", df)"
   ]
  }
 ],
 "metadata": {
  "kernelspec": {
   "display_name": "Py3.9 (pyspark_dev)",
   "language": "python",
   "name": "pyspark_dev"
  },
  "language_info": {
   "codemirror_mode": {
    "name": "ipython",
    "version": 3
   },
   "file_extension": ".py",
   "mimetype": "text/x-python",
   "name": "python",
   "nbconvert_exporter": "python",
   "pygments_lexer": "ipython3",
   "version": "3.9.13"
  },
  "widgets": {
   "application/vnd.jupyter.widget-state+json": {
    "state": {},
    "version_major": 2,
    "version_minor": 0
   }
  }
 },
 "nbformat": 4,
 "nbformat_minor": 5
}
