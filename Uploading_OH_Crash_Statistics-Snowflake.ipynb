{
 "cells": [
  {
   "cell_type": "markdown",
   "id": "558be5d6-a00f-48a7-a7b9-fd8cd91c18c9",
   "metadata": {},
   "source": [
    "# Uploading Ohio Crash Statistics to Snowflake - PySpark Version"
   ]
  },
  {
   "cell_type": "markdown",
   "id": "b49e3578-6672-48f7-92c6-8cd5d4747a2c",
   "metadata": {},
   "source": [
    "### Background"
   ]
  },
  {
   "cell_type": "markdown",
   "id": "bd3e4199-a5db-4a07-8fb2-fca50edc4266",
   "metadata": {},
   "source": [
    "Ohio vehicle crash data can be freely obtain [here](https://ohtrafficdata.dps.ohio.gov/CrashStatistics/Home).  The data will then be received via email in a zip file.  This notebook shows a local process which uses Python to unzip the zip file and open the relevant CSV file using PySpark.  The data is then cleaned up (removed unnecessary tab characters, properly formatted the dates, etc) and uploaded as a Snowflake table.\n",
    "\n",
    "**NOTE:** Snowflake, as most cloud databases, do **NOT** actually enforce column constraint for uniqueness.  So beware of uploading the same data more than once.  Snowflake will not give you a warning, nor prevent the upserts from occurring."
   ]
  },
  {
   "cell_type": "markdown",
   "id": "6ee5a273-81e7-440f-b2eb-53c73b35ae66",
   "metadata": {},
   "source": [
    "#### Python library imports"
   ]
  },
  {
   "cell_type": "code",
   "execution_count": 1,
   "id": "57c43818-533e-4f7d-8ed5-f019d13ea156",
   "metadata": {},
   "outputs": [],
   "source": [
    "from pathlib import Path\n",
    "from pyspark.sql import SparkSession\n",
    "from pyspark.sql.functions import regexp_replace, to_timestamp\n",
    "from pyspark.sql.types import IntegerType, FloatType\n",
    "import configparser\n",
    "import os\n",
    "import pandas as pd\n",
    "import pyspark\n",
    "import zipfile"
   ]
  },
  {
   "cell_type": "markdown",
   "id": "43c20a74-8757-45d1-b8fe-6aeff6595746",
   "metadata": {},
   "source": [
    "#### Obtaining Snowflake credentials and starting a local PySpark session with specified JDBC driver and Snowflake-Spark driver jar file paths"
   ]
  },
  {
   "cell_type": "markdown",
   "id": "91541c85-58f2-4184-ad61-f683aa6050ce",
   "metadata": {},
   "source": [
    "It is assumed that an environment variable `CONFIG_PATH` was already set.  It contains the file path to the `config.ini` text file"
   ]
  },
  {
   "cell_type": "code",
   "execution_count": 2,
   "id": "b49d4e8c-2a48-41b6-bddb-dcfb0e76def6",
   "metadata": {},
   "outputs": [],
   "source": [
    "config_file = os.getenv(\"CONFIG_PATH\")"
   ]
  },
  {
   "cell_type": "code",
   "execution_count": 3,
   "id": "5492b07a-7c2c-46c9-838b-5fdb462ccb29",
   "metadata": {},
   "outputs": [],
   "source": [
    "config = configparser.ConfigParser()\n",
    "try:\n",
    "    config.read(config_file)\n",
    "except ConfigFileNotFound:\n",
    "    print(\"config.ini file not found\")"
   ]
  },
  {
   "cell_type": "markdown",
   "id": "2d995b5d-289f-4f38-ab68-88a68ac474fc",
   "metadata": {},
   "source": [
    "To connect to Snowflake using JDBC driver, you need to download/obtain the JDBC driver jar file.  You also need to obtain the Snowflake-Spark driver jar file.  The jar files can be obtained [here](https://search.maven.org/search?q=g:net.snowflake)."
   ]
  },
  {
   "cell_type": "code",
   "execution_count": 4,
   "id": "8cfea76b-5e41-4cdc-849c-7927adc4c1e9",
   "metadata": {},
   "outputs": [],
   "source": [
    "sf_jdbc_driver = config['snowflake']['jdbc_driver_path']\n",
    "sf_spark_driver = config['snowflake']['spark_driver_path']"
   ]
  },
  {
   "cell_type": "code",
   "execution_count": 5,
   "id": "f689a061-f4aa-464a-a6cd-7c4e10009b1c",
   "metadata": {},
   "outputs": [],
   "source": [
    "spark = (\n",
    "    SparkSession.builder.master(\"local[*]\")\n",
    "    .appName(\"Snowflake_JDBC\")\n",
    "    .config(\"spark.jars\", f\"{sf_jdbc_driver},{sf_spark_driver}\")   # This is needed for \"local\" PySpark environment\n",
    "    .getOrCreate()\n",
    ")"
   ]
  },
  {
   "cell_type": "markdown",
   "id": "2d6015ae-52fd-425c-9e90-184b763530a2",
   "metadata": {},
   "source": [
    "#### Specifying the calendar month to choose which zip file to unzip, read in the crash stats csv file"
   ]
  },
  {
   "cell_type": "code",
   "execution_count": 16,
   "id": "958c9a99-a9f0-439d-9b3f-1f8baa8b10f8",
   "metadata": {},
   "outputs": [],
   "source": [
    "MONTH = '06'"
   ]
  },
  {
   "cell_type": "code",
   "execution_count": 17,
   "id": "5f126904-5518-4971-bb40-98af87db470f",
   "metadata": {},
   "outputs": [],
   "source": [
    "with zipfile.ZipFile(f\"data/OH_2022-{MONTH}.zip\", \"r\") as zip_ref:\n",
    "    # extract all the contents of the zip file to the specified directory\n",
    "    zip_ref.extractall(f\"data/OH_2022-{MONTH}\")"
   ]
  },
  {
   "cell_type": "code",
   "execution_count": 18,
   "id": "25e154af-21b3-41fe-b30b-d72398c6b51f",
   "metadata": {},
   "outputs": [],
   "source": [
    "crash_stats_df = spark.read.csv(f\"data/OH_2022-{MONTH}/CrashStatistics.csv\", header=True, sep=\",\")"
   ]
  },
  {
   "cell_type": "markdown",
   "id": "08c96f39-d917-429e-afac-c4b090f8abb0",
   "metadata": {},
   "source": [
    "#### Data Clean Up: Formatting dates, integers, and removing unnecessary tab characters"
   ]
  },
  {
   "cell_type": "markdown",
   "id": "afdfc2df-99e0-4cd4-b4f6-e098ce2aaf04",
   "metadata": {},
   "source": [
    "Per this [doc](https://spark.apache.org/docs/latest/sql-ref-datetime-pattern.html), the correct formatting is: \"M/d/yyyy h:mm:ss a\""
   ]
  },
  {
   "cell_type": "code",
   "execution_count": 19,
   "id": "7d7245c8-4133-4ccd-b3d9-fa20c5d19c6a",
   "metadata": {},
   "outputs": [],
   "source": [
    "crash_stats_df = crash_stats_df.withColumn(\"CrashDateTime\", to_timestamp(\"CrashDateTime\",\"M/d/yyyy h:mm:ss a\"))\n",
    "crash_stats_df = crash_stats_df.withColumn(\"CrashReportedDateTime\", to_timestamp(\"CrashReportedDateTime\", \"M/d/yyyy h:mm:ss a\"))\n",
    "crash_stats_df = crash_stats_df.withColumn(\"DispatchedDateTime\", to_timestamp(\"DispatchedDateTime\", \"M/d/yyyy h:mm:ss a\"))\n",
    "crash_stats_df = crash_stats_df.withColumn(\"ArrivedDateTime\", to_timestamp(\"ArrivedDateTime\", \"M/d/yyyy h:mm:ss a\"))\n",
    "crash_stats_df = crash_stats_df.withColumn(\"SceneClearedDateTime\", to_timestamp(\"SceneClearedDateTime\", \"M/d/yyyy h:mm:ss a\"))\n",
    "crash_stats_df = crash_stats_df.withColumn(\"NumberOfUnits\", crash_stats_df[\"NumberOfUnits\"].cast(IntegerType()))\n",
    "crash_stats_df = crash_stats_df.withColumn(\"NumberOfApproaches\", crash_stats_df[\"NumberOfApproaches\"].cast(IntegerType()))\n",
    "crash_stats_df = crash_stats_df.withColumn(\"Latitude\", crash_stats_df[\"Latitude\"].cast(FloatType()))\n",
    "crash_stats_df = crash_stats_df.withColumn(\"Longitude\", crash_stats_df[\"Longitude\"].cast(FloatType()))"
   ]
  },
  {
   "cell_type": "markdown",
   "id": "a4f5d002-1247-46b1-abdf-124f9d59e211",
   "metadata": {},
   "source": [
    "Removing unnecessary tab characters"
   ]
  },
  {
   "cell_type": "code",
   "execution_count": 20,
   "id": "8746a416-5fe8-450c-a8e6-2551618278b0",
   "metadata": {},
   "outputs": [],
   "source": [
    "crash_stats_df = crash_stats_df.withColumn(\"LocalReportNumber\", regexp_replace(\"LocalReportNumber\", \"\\t\", \"\"))\n",
    "crash_stats_df = crash_stats_df.withColumn(\"ReportingAgencyNCIC\", regexp_replace(\"ReportingAgencyNCIC\", \"\\t\", \"\"))"
   ]
  },
  {
   "cell_type": "markdown",
   "id": "6eadb744-d86e-406e-bb14-a67c19099f0e",
   "metadata": {},
   "source": [
    "#### Confirming column data type / schema"
   ]
  },
  {
   "cell_type": "code",
   "execution_count": 21,
   "id": "aaf1cd64-c246-46d8-b4bd-01ecb21dedc3",
   "metadata": {},
   "outputs": [
    {
     "name": "stdout",
     "output_type": "stream",
     "text": [
      "root\n",
      " |-- LocalReportNumber: string (nullable = true)\n",
      " |-- DocumentNumber: string (nullable = true)\n",
      " |-- CrashSeverity: string (nullable = true)\n",
      " |-- HitSkip: string (nullable = true)\n",
      " |-- LocalInformation: string (nullable = true)\n",
      " |-- SecondaryCrash: string (nullable = true)\n",
      " |-- PhotosTaken: string (nullable = true)\n",
      " |-- OH2: string (nullable = true)\n",
      " |-- OH3: string (nullable = true)\n",
      " |-- OH1P: string (nullable = true)\n",
      " |-- OHOther: string (nullable = true)\n",
      " |-- PrivateProperty: string (nullable = true)\n",
      " |-- ReportingAgencyNCIC: string (nullable = true)\n",
      " |-- NumberOfUnits: integer (nullable = true)\n",
      " |-- UnitInError: string (nullable = true)\n",
      " |-- County: string (nullable = true)\n",
      " |-- InCityVillageTownship: string (nullable = true)\n",
      " |-- CityVillageTownshipName: string (nullable = true)\n",
      " |-- CrashDateTime: timestamp (nullable = true)\n",
      " |-- FIPSPlaceCode: string (nullable = true)\n",
      " |-- Latitude: float (nullable = true)\n",
      " |-- Longitude: float (nullable = true)\n",
      " |-- LocationRouteType: string (nullable = true)\n",
      " |-- LocationRouteNumber: string (nullable = true)\n",
      " |-- LocationPrefix: string (nullable = true)\n",
      " |-- LocationRoadName: string (nullable = true)\n",
      " |-- LocationRoadType: string (nullable = true)\n",
      " |-- DistanceFromReference: string (nullable = true)\n",
      " |-- DistanceReferenceMeasurement: string (nullable = true)\n",
      " |-- DirectionFromReference: string (nullable = true)\n",
      " |-- ReferenceRouteType: string (nullable = true)\n",
      " |-- ReferenceRouteNumber: string (nullable = true)\n",
      " |-- ReferencePrefix: string (nullable = true)\n",
      " |-- ReferenceName: string (nullable = true)\n",
      " |-- ReferencePointUsed: string (nullable = true)\n",
      " |-- ReferenceRoadType: string (nullable = true)\n",
      " |-- IntersectionOrApproachRelated: string (nullable = true)\n",
      " |-- NumberOfApproaches: integer (nullable = true)\n",
      " |-- WithinInterchangeArea: string (nullable = true)\n",
      " |-- LocationFirstHarmfulEvent: string (nullable = true)\n",
      " |-- MannerOfCollision: string (nullable = true)\n",
      " |-- Weather: string (nullable = true)\n",
      " |-- LightCondition: string (nullable = true)\n",
      " |-- ActiveSchoolZoneRelated: string (nullable = true)\n",
      " |-- WorkZoneRelated: string (nullable = true)\n",
      " |-- WorkersPresent: string (nullable = true)\n",
      " |-- LawEnforcementPresentInWorkZone: string (nullable = true)\n",
      " |-- WorkZoneType: string (nullable = true)\n",
      " |-- WorkZoneLocation: string (nullable = true)\n",
      " |-- Narrative: string (nullable = true)\n",
      " |-- ReportTakenBy: string (nullable = true)\n",
      " |-- Supplement: string (nullable = true)\n",
      " |-- CrashReportedDateTime: timestamp (nullable = true)\n",
      " |-- DispatchedDateTime: timestamp (nullable = true)\n",
      " |-- ArrivedDateTime: timestamp (nullable = true)\n",
      " |-- SceneClearedDateTime: timestamp (nullable = true)\n",
      " |-- OtherInvestigationTime: string (nullable = true)\n",
      " |-- TotalTimeRoadwayClosed: string (nullable = true)\n",
      " |-- OfficerName: string (nullable = true)\n",
      " |-- OfficerBadgeNumber: string (nullable = true)\n",
      " |-- CheckedByOfficerName: string (nullable = true)\n",
      " |-- CheckedByBadgeNumber: string (nullable = true)\n",
      " |-- RoadwayDivided: string (nullable = true)\n",
      " |-- DividedLaneTravelDirection: string (nullable = true)\n",
      " |-- DividedMedianType: string (nullable = true)\n",
      " |-- RoadContour: string (nullable = true)\n",
      " |-- RoadCondition: string (nullable = true)\n",
      " |-- RoadSurface: string (nullable = true)\n",
      " |-- TotalInjured: string (nullable = true)\n",
      " |-- TotalKilled: string (nullable = true)\n",
      " |-- TotalMinutes: string (nullable = true)\n",
      " |-- AnimalRelated: string (nullable = true)\n",
      " |-- AnimalDeerRelated: string (nullable = true)\n",
      " |-- AlcoholRelated: string (nullable = true)\n",
      " |-- DrugRelated: string (nullable = true)\n",
      " |-- BicycleRelated: string (nullable = true)\n",
      " |-- MotorCycleRelated: string (nullable = true)\n",
      " |-- SpeedRelated: string (nullable = true)\n",
      " |-- PedestrianRelated: string (nullable = true)\n",
      " |-- SemiTruckRelated: string (nullable = true)\n",
      " |-- SmallTruckRelated: string (nullable = true)\n",
      " |-- YouthRelated: string (nullable = true)\n",
      " |-- TeenRelated: string (nullable = true)\n",
      " |-- DUI21Related: string (nullable = true)\n",
      " |-- SeniorRelated: string (nullable = true)\n",
      " |-- FatalNotReportable: string (nullable = true)\n",
      " |-- CommercialRelated: string (nullable = true)\n",
      " |-- CommercialAtFault: string (nullable = true)\n",
      "\n"
     ]
    }
   ],
   "source": [
    "crash_stats_df.printSchema()"
   ]
  },
  {
   "cell_type": "markdown",
   "id": "f8241e20-d122-44ce-bead-319edd3044e4",
   "metadata": {},
   "source": [
    "#### Upload cleaned data as a Snowflake table"
   ]
  },
  {
   "cell_type": "markdown",
   "id": "2f1e18b8-d12a-4e3e-ac85-1980670b9d53",
   "metadata": {},
   "source": [
    "Obtain Snowflake credentials from config.ini file"
   ]
  },
  {
   "cell_type": "code",
   "execution_count": 22,
   "id": "ae588edf-43e5-4ee4-b5f4-951f1158aa18",
   "metadata": {},
   "outputs": [],
   "source": [
    "sf_account = config['snowflake']['account']\n",
    "sf_user = config['snowflake']['username']\n",
    "sf_database = config['snowflake']['database']\n",
    "sf_schema = config['snowflake']['schema']\n",
    "sf_role = config['snowflake']['role']\n",
    "sf_warehouse = config['snowflake']['warehouse']\n",
    "sf_authenticator = config['snowflake']['authenticator']"
   ]
  },
  {
   "cell_type": "code",
   "execution_count": 23,
   "id": "c2e2fde3-f2ac-4efb-8aa9-9cc114af261f",
   "metadata": {},
   "outputs": [],
   "source": [
    "SNOWFLAKE_SOURCE_NAME = \"net.snowflake.spark.snowflake\""
   ]
  },
  {
   "cell_type": "code",
   "execution_count": 24,
   "id": "cafd910b-e511-44db-b0ad-a9272ab7cada",
   "metadata": {},
   "outputs": [],
   "source": [
    "# Snowflake connection parameters\n",
    "sfparams = {\n",
    "    \"sfURL\" : f\"{sf_account}.snowflakecomputing.com\",\n",
    "    \"sfUser\" : sf_user,\n",
    "    \"sfPassword\" : \"your_password\",  # Not applicable when using externalbrowser authenticator\n",
    "    \"sfDatabase\" : sf_database,\n",
    "    \"sfSchema\" : \"vehicle_crash_data\",\n",
    "    \"sfRole\" : sf_role,\n",
    "    \"sfWarehouse\" : sf_warehouse,\n",
    "    \"sfAuthenticator\" : sf_authenticator\n",
    "}"
   ]
  },
  {
   "cell_type": "markdown",
   "id": "232228c0-d062-42e8-b8ef-607c9d0db7fc",
   "metadata": {},
   "source": [
    "Upload / write the PySpark dataframe as a Snowflake table, appending to table if it already exists"
   ]
  },
  {
   "cell_type": "code",
   "execution_count": 25,
   "id": "c5c65574-5bd8-487e-aede-5f658bb3ad33",
   "metadata": {},
   "outputs": [],
   "source": [
    "(crash_stats_df\n",
    " .write.format(SNOWFLAKE_SOURCE_NAME)\n",
    " .options(**sfparams)\n",
    " .option(\"dbtable\", \"oh_crash_statistics\")\n",
    " .mode(\"append\")\n",
    " .save()\n",
    ")"
   ]
  }
 ],
 "metadata": {
  "kernelspec": {
   "display_name": "Py3.9 (pyspark_dev)",
   "language": "python",
   "name": "pyspark_dev"
  },
  "language_info": {
   "codemirror_mode": {
    "name": "ipython",
    "version": 3
   },
   "file_extension": ".py",
   "mimetype": "text/x-python",
   "name": "python",
   "nbconvert_exporter": "python",
   "pygments_lexer": "ipython3",
   "version": "3.9.13"
  },
  "widgets": {
   "application/vnd.jupyter.widget-state+json": {
    "state": {},
    "version_major": 2,
    "version_minor": 0
   }
  }
 },
 "nbformat": 4,
 "nbformat_minor": 5
}
